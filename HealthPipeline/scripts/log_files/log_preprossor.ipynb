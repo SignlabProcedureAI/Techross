{
 "cells": [
  {
   "cell_type": "code",
   "execution_count": 35,
   "id": "45dce611",
   "metadata": {},
   "outputs": [
    {
     "name": "stdout",
     "output_type": "stream",
     "text": [
      "Path already exists: C:\\Users\\pc021\\Desktop\\dx_project\\techross\\health_data\\src\n"
     ]
    }
   ],
   "source": [
    "import sys\n",
    "import os\n",
    "import pandas as pd\n",
    "import re\n",
    "\n",
    "from my_package.data.select_dataset import get_dataframe_from_database\n",
    "from my_package.data.load_database import load_database\n",
    "\n",
    "# 경로 설정: 스크립트 경로에서 상위 디렉토리로 이동한 후 src 경로 추가\n",
    "health_data_path = os.path.abspath(os.path.join('..', '..','src'))\n",
    "\n",
    "paths = [health_data_path]\n",
    "\n",
    "def add_paths(paths):\n",
    "    \"\"\"\n",
    "    지정된 경로들이 sys.path에 없으면 추가하는 함수.\n",
    "    \n",
    "    Parameters:\n",
    "    - paths (list): 추가하려는 경로들의 리스트.\n",
    "    \"\"\"\n",
    "    for path in paths:\n",
    "        if path not in sys.path:\n",
    "            sys.path.append(path)\n",
    "            print(f\"Path added: {path}\")\n",
    "        else:\n",
    "            print(f\"Path already exists: {path}\")\n",
    "            \n",
    "add_paths(paths)"
   ]
  },
  {
   "cell_type": "code",
   "execution_count": 36,
   "id": "87f96913",
   "metadata": {},
   "outputs": [],
   "source": [
    "# 옵션 설정\n",
    "\n",
    "pd.set_option('display.max_rows',600)"
   ]
  },
  {
   "cell_type": "code",
   "execution_count": 41,
   "id": "4fa61128",
   "metadata": {},
   "outputs": [],
   "source": [
    "def preprocess_log_file(file_path):\n",
    "    \"\"\"\n",
    "    로그 파일을 읽고 전처리하여 데이터프레임으로 반환하는 함수입니다.\n",
    "\n",
    "    Parameters:\n",
    "        file_path (str): 전처리할 로그 파일의 경로\n",
    "    \n",
    "    Returns:\n",
    "        pd.DataFrame: 정리된 로그 데이터\n",
    "    \"\"\"\n",
    "    data = []\n",
    "    with open(file_path, 'r') as file:\n",
    "        for line in file:\n",
    "            # 공백과 줄바꿈 제거\n",
    "            line = line.strip()\n",
    "            if line:\n",
    "                # 처리 시간과 로그 내용 분리\n",
    "                timestamp, log_content = line.split(\" - INFO - \", 1)\n",
    "              \n",
    "                # 로그 내용 파싱\n",
    "                parsed_content = dict(item.split('=') for item in log_content.split(' | '))\n",
    "                \n",
    "                # 처리 시간을 새로운 컬럼으로 추가\n",
    "                parsed_content['PREOCESSING_TIME'] = timestamp\n",
    "                    \n",
    "                # 데이터 리스트에 추가\n",
    "                data.append(parsed_content)\n",
    "                \n",
    "    # 데이터 리스트를 데이터프레임으로 변환\n",
    "    df = pd.DataFrame(data)\n",
    "    \n",
    "    return df\n",
    "\n",
    "log_20241112 = preprocess_log_file('log_20241112.log')\n",
    "log_20241113 = preprocess_log_file('log_20241113.log')\n",
    "log_20241114 = preprocess_log_file('log_20241114.log')\n",
    "\n",
    "log = pd.concat([log_20241112,log_20241113,log_20241114])\n",
    "log = log.reset_index(drop=True)\n",
    "log['OP_INDEX'] = log['OP_INDEX'].astype('int')"
   ]
  },
  {
   "cell_type": "markdown",
   "id": "ffaff1e7",
   "metadata": {},
   "source": [
    "log 분석"
   ]
  },
  {
   "cell_type": "markdown",
   "id": "d69dc836",
   "metadata": {},
   "source": [
    "오퍼레이션 처리 개수 : 2500\n",
    "\n",
    "오퍼레이션 처리 실패 개수 : 10만건 이상\n",
    "\n",
    "오퍼레이션 40개 이하 8만건 이상"
   ]
  },
  {
   "cell_type": "code",
   "execution_count": 68,
   "id": "bd8c4e7e",
   "metadata": {},
   "outputs": [
    {
     "name": "stderr",
     "output_type": "stream",
     "text": [
      "C:\\Users\\pc021\\AppData\\Local\\Temp\\ipykernel_16976\\4010129357.py:6: SettingWithCopyWarning: \n",
      "A value is trying to be set on a copy of a slice from a DataFrame.\n",
      "Try using .loc[row_indexer,col_indexer] = value instead\n",
      "\n",
      "See the caveats in the documentation: https://pandas.pydata.org/pandas-docs/stable/user_guide/indexing.html#returning-a-view-versus-a-copy\n",
      "  log_false_data_len['len']  = log_false_data_len['LOG_ENTRY'].apply(lambda x: int(re.search(r'\\d+',x).group()))\n"
     ]
    },
    {
     "data": {
      "text/plain": [
       "<AxesSubplot: ylabel='Frequency'>"
      ]
     },
     "execution_count": 68,
     "metadata": {},
     "output_type": "execute_result"
    },
    {
     "data": {
      "image/png": "[encoded data removed]",
      "text/plain": [
       "<Figure size 640x480 with 1 Axes>"
      ]
     },
     "metadata": {},
     "output_type": "display_data"
    }
   ],
   "source": [
    "# 처리되지 않은 데이터 추출\n",
    "log_false = log[log['is_processed']=='False']\n",
    "log_false_data_len = log_false[log_false['LOG_ENTRY'].str.startswith('데이터 개수')]\n",
    "\n",
    "# 데이터 개수 추출\n",
    "log_false_data_len['len']  = log_false_data_len['LOG_ENTRY'].apply(lambda x: int(re.search(r'\\d+',x).group()))\n",
    "\n",
    "# 히스토그램 시각화\n",
    "log_false_data_len['len'].plot(kind='hist')"
   ]
  },
  {
   "cell_type": "code",
   "execution_count": 44,
   "id": "ad14de0e",
   "metadata": {},
   "outputs": [
    {
     "name": "stdout",
     "output_type": "stream",
     "text": [
      "DataFrame has been successfully loaded into tc_ai_log table in signlab database.\n"
     ]
    }
   ],
   "source": [
    "# load_database(log,'tc_ai_log') "
   ]
  },
  {
   "cell_type": "code",
   "execution_count": 30,
   "id": "25897744",
   "metadata": {},
   "outputs": [
    {
     "data": {
      "text/html": [
       "<div>\n",
       "<style scoped>\n",
       "    .dataframe tbody tr th:only-of-type {\n",
       "        vertical-align: middle;\n",
       "    }\n",
       "\n",
       "    .dataframe tbody tr th {\n",
       "        vertical-align: top;\n",
       "    }\n",
       "\n",
       "    .dataframe thead th {\n",
       "        text-align: right;\n",
       "    }\n",
       "</style>\n",
       "<table border=\"1\" class=\"dataframe\">\n",
       "  <thead>\n",
       "    <tr style=\"text-align: right;\">\n",
       "      <th></th>\n",
       "      <th>SHIP_ID</th>\n",
       "      <th>OP_INDEX</th>\n",
       "      <th>SECTION</th>\n",
       "      <th>START_TIME</th>\n",
       "      <th>LOG_ENTRY</th>\n",
       "      <th>TYPE</th>\n",
       "      <th>is_processed</th>\n",
       "      <th>PREOCESSING_TIME</th>\n",
       "    </tr>\n",
       "  </thead>\n",
       "  <tbody>\n",
       "    <tr>\n",
       "      <th>777</th>\n",
       "      <td>T130411-00501</td>\n",
       "      <td>210</td>\n",
       "      <td>0</td>\n",
       "      <td>2022-09-11 23:52:40</td>\n",
       "      <td>모델 및 통계 패키지 통해 결과를 도출했습니다</td>\n",
       "      <td>ALL</td>\n",
       "      <td>True</td>\n",
       "      <td>2024-11-12 09:10:04</td>\n",
       "    </tr>\n",
       "    <tr>\n",
       "      <th>778</th>\n",
       "      <td>T130411-00501</td>\n",
       "      <td>210</td>\n",
       "      <td>0</td>\n",
       "      <td>2022-09-11 23:52:40</td>\n",
       "      <td>`distance` must be greater or equal to 1</td>\n",
       "      <td>MAIN</td>\n",
       "      <td>FALSE</td>\n",
       "      <td>2024-11-12 09:10:05</td>\n",
       "    </tr>\n",
       "  </tbody>\n",
       "</table>\n",
       "</div>"
      ],
      "text/plain": [
       "           SHIP_ID  OP_INDEX SECTION           START_TIME  \\\n",
       "777  T130411-00501       210       0  2022-09-11 23:52:40   \n",
       "778  T130411-00501       210       0  2022-09-11 23:52:40   \n",
       "\n",
       "                                    LOG_ENTRY  TYPE is_processed  \\\n",
       "777                 모델 및 통계 패키지 통해 결과를 도출했습니다   ALL         True   \n",
       "778  `distance` must be greater or equal to 1  MAIN        FALSE   \n",
       "\n",
       "        PREOCESSING_TIME  \n",
       "777  2024-11-12 09:10:04  \n",
       "778  2024-11-12 09:10:05  "
      ]
     },
     "execution_count": 30,
     "metadata": {},
     "output_type": "execute_result"
    }
   ],
   "source": [
    "log[(log['SHIP_ID']=='T130411-00501') & (log['OP_INDEX']==210) & (log['SECTION']=='0')]"
   ]
  },
  {
   "cell_type": "code",
   "execution_count": 35,
   "id": "6afe3883",
   "metadata": {
    "collapsed": true
   },
   "outputs": [
    {
     "name": "stdout",
     "output_type": "stream",
     "text": [
      "순차적으로 증가하지 않는 OP_INDEX가 있는 행:\n",
      "             SHIP_ID  OP_INDEX  OP_INDEX_SHIFT\n",
      "108    T121129-47401        74            72.0\n",
      "133    T121129-47401       100            98.0\n",
      "249    T121129-47401       217           215.0\n",
      "303    T121129-47401       272           270.0\n",
      "342    T121129-47401       312           310.0\n",
      "...              ...       ...             ...\n",
      "77806   T20210910001        21            18.0\n",
      "77901   T20210910001       117           115.0\n",
      "77907   T20210910001       124           122.0\n",
      "77909   T20210910001       128           125.0\n",
      "77911   T20210910001       131           129.0\n",
      "\n",
      "[5382 rows x 3 columns]\n"
     ]
    }
   ],
   "source": [
    "# 예시 데이터프레임 (이미 데이터프레임으로 로드되어 있다고 가정)# data = pd.read_csv('your_data.csv')\n",
    "\n",
    "# 데이터프레임을 OP_INDEX 기준으로 정렬 (SHIP_ID가 같을 때 순차적으로 정렬되어 있다고 가정)\n",
    "data = log.sort_values(['SHIP_ID', 'OP_INDEX']).reset_index(drop=True)\n",
    "\n",
    "# 이전 OP_INDEX 값과 비교하여 순차적 증가가 아니면 True로 표시\n",
    "data['OP_INDEX_SHIFT'] = data.groupby('SHIP_ID')['OP_INDEX'].shift(1)\n",
    "data['IS_SEQUENTIAL'] = (data['OP_INDEX'] == data['OP_INDEX_SHIFT'] + 1) | data['OP_INDEX_SHIFT'].isna()\n",
    "\n",
    "# 순차적이지 않은 부분만 필터링\n",
    "anomalies_df = data[~data['IS_SEQUENTIAL']]\n",
    "\n",
    "# 결과 확인\n",
    "if anomalies_df.empty:\n",
    "    print(\"모든 SHIP_ID에서 OP_INDEX가 순차적으로 증가합니다.\")\n",
    "else:\n",
    "    print(\"순차적으로 증가하지 않는 OP_INDEX가 있는 행:\")\n",
    "    print(anomalies_df[['SHIP_ID', 'OP_INDEX', 'OP_INDEX_SHIFT']])"
   ]
  }
 ],
 "metadata": {
  "kernelspec": {
   "display_name": "health",
   "language": "python",
   "name": "health"
  },
  "language_info": {
   "codemirror_mode": {
    "name": "ipython",
    "version": 3
   },
   "file_extension": ".py",
   "mimetype": "text/x-python",
   "name": "python",
   "nbconvert_exporter": "python",
   "pygments_lexer": "ipython3",
   "version": "3.8.10"
  }
 },
 "nbformat": 4,
 "nbformat_minor": 5
}
